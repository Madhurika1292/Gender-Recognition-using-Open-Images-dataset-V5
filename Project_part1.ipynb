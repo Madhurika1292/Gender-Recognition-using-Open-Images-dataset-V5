{
 "cells": [
  {
   "cell_type": "markdown",
   "metadata": {},
   "source": [
    "# Part 1-Data Extraction and Data cleaning\n",
    "\n",
    "This is part one of project where i tried to fetch required data with human faces and Girl/Boy/Woman/Man labels and kept it in parquest file to use it further to fit model"
   ]
  },
  {
   "cell_type": "markdown",
   "metadata": {},
   "source": [
    "Below are the necessary modules which needs to be imported as pre-requisites"
   ]
  },
  {
   "cell_type": "markdown",
   "metadata": {},
   "source": [
    "#!pip install --cache-dir='/scratch/data603/msitut1' tensorflow==2.2.0rc2\n",
    "pip3 install --no-cache-dir tensorflow\n",
    "pip install Pillow\n",
    "pip install matplotlib\n",
    "pip install cvlib\n",
    "pip install opencv-python\n",
    "pip install import_ipynb\n",
    "pip install pyarrow\n",
    "pip install pyspark\n",
    "pip install venv_pack\n",
    "pip install pandas\n",
    "pip install keras"
   ]
  },
  {
   "cell_type": "markdown",
   "metadata": {},
   "source": [
    "## Loading Libraries"
   ]
  },
  {
   "cell_type": "code",
   "execution_count": 1,
   "metadata": {},
   "outputs": [
    {
     "name": "stdout",
     "output_type": "stream",
     "text": [
      "importing Jupyter notebook from SparkLauncher.ipynb\n",
      "Creating Spark Configuration\n",
      "importing Jupyter notebook from HDFS.ipynb\n",
      "importing Jupyter notebook from model.ipynb\n"
     ]
    },
    {
     "name": "stderr",
     "output_type": "stream",
     "text": [
      "Using TensorFlow backend.\n"
     ]
    }
   ],
   "source": [
    "# Loading libraries\n",
    "\n",
    "import import_ipynb\n",
    "import SparkLauncher, HDFS.ipynb\n",
    "from pyspark.sql import SQLContext\n",
    "from pyspark import SparkContext\n",
    "from pyspark.sql.functions import lit\n",
    "import sys\n",
    "if not sys.warnoptions:\n",
    "    import warnings\n",
    "    warnings.simplefilter(\"ignore\")\n",
    "import os\n",
    "import pyarrow as pa\n",
    "from pyspark import SparkConf\n",
    "from pyspark import SparkContext\n",
    "from pyspark.sql import SparkSession\n",
    "from pyspark.sql.functions import *\n",
    "from pyspark.sql.types import *\n",
    "import venv_pack\n",
    "from pyspark.sql.functions import array_contains\n",
    "import io\n",
    "from io import StringIO\n",
    "import pyspark.sql.functions as f\n",
    "import cv2\n",
    "import tensorflow\n",
    "import model\n",
    "import cvlib as cv\n",
    "import numpy as np\n",
    "import pandas as pd"
   ]
  },
  {
   "cell_type": "markdown",
   "metadata": {},
   "source": [
    "## Creating Spark Session"
   ]
  },
  {
   "cell_type": "code",
   "execution_count": 2,
   "metadata": {},
   "outputs": [
    {
     "name": "stdout",
     "output_type": "stream",
     "text": [
      "Packing Virtual Environment: msitut1.tar.gz\n",
      "Setting Environment Variables\n",
      "Creating Spark Session: msitut1_data603_spark_session\n"
     ]
    }
   ],
   "source": [
    "# loading spark context\n",
    "spark= SparkLauncher.get_spark_session()\n",
    "hdfs = HDFS.get_hdfs()"
   ]
  },
  {
   "cell_type": "code",
   "execution_count": 3,
   "metadata": {},
   "outputs": [
    {
     "data": {
      "text/plain": [
       "['/data/google_open_image/bboxes',\n",
       " '/data/google_open_image/ids',\n",
       " '/data/google_open_image/images',\n",
       " '/data/google_open_image/labels',\n",
       " '/data/google_open_image/masks',\n",
       " '/data/google_open_image/metadata',\n",
       " '/data/google_open_image/relationships',\n",
       " '/data/google_open_image/segmentations']"
      ]
     },
     "execution_count": 3,
     "metadata": {},
     "output_type": "execute_result"
    }
   ],
   "source": [
    "hdfs.ls('/data/google_open_image')"
   ]
  },
  {
   "cell_type": "markdown",
   "metadata": {},
   "source": [
    "## Data Loading and Creating Dataframes"
   ]
  },
  {
   "cell_type": "code",
   "execution_count": 4,
   "metadata": {},
   "outputs": [],
   "source": [
    "#creating dataframes\n",
    "from pyspark.sql.types import StructType, StructField, StringType\n",
    "\n",
    "schema = StructType([\n",
    "    StructField(\"LabelName\", StringType(), True),\n",
    "    StructField(\"Items\", StringType(), True),\n",
    "])\n",
    "\n",
    "df_description_box=spark.read.csv('/data/google_open_image/metadata/class-descriptions-boxable.csv', header = False,schema=schema)"
   ]
  },
  {
   "cell_type": "code",
   "execution_count": 5,
   "metadata": {},
   "outputs": [
    {
     "name": "stdout",
     "output_type": "stream",
     "text": [
      "df_description_box (601, 2)\n",
      "root\n",
      " |-- LabelName: string (nullable = true)\n",
      " |-- Items: string (nullable = true)\n",
      "\n"
     ]
    }
   ],
   "source": [
    "# Shape of all the dataframes\n",
    "print('df_description_box',(df_description_box.count(), len(df_description_box.columns)))\n",
    "df_description_box.printSchema()"
   ]
  },
  {
   "cell_type": "markdown",
   "metadata": {},
   "source": [
    "Checking if df_description_box has any null values"
   ]
  },
  {
   "cell_type": "code",
   "execution_count": 6,
   "metadata": {},
   "outputs": [
    {
     "name": "stdout",
     "output_type": "stream",
     "text": [
      "+---------+-----+\n",
      "|LabelName|Items|\n",
      "+---------+-----+\n",
      "|        0|    0|\n",
      "+---------+-----+\n",
      "\n"
     ]
    }
   ],
   "source": [
    "### Get count of nan or missing values in pyspark\n",
    "\n",
    "from pyspark.sql.functions import isnan, when, count, col\n",
    "df_description_box.select([count(when(isnan(c), c)).alias(c) for c in df_description_box.columns]).show()\n",
    "    #http://www.datasciencemadesimple.com/count-of-missing-nanna-and-null-values-in-pyspark/"
   ]
  },
  {
   "cell_type": "markdown",
   "metadata": {},
   "source": [
    "No null values observed in df_description_box dataframe"
   ]
  },
  {
   "cell_type": "code",
   "execution_count": 7,
   "metadata": {},
   "outputs": [
    {
     "name": "stdout",
     "output_type": "stream",
     "text": [
      "+----------+----------+\n",
      "| LabelName|     Items|\n",
      "+----------+----------+\n",
      "| /m/01bl7v|       Boy|\n",
      "|/m/03bt1vf|     Woman|\n",
      "|  /m/04yx4|       Man|\n",
      "| /m/05r655|      Girl|\n",
      "|  /m/0dzct|Human face|\n",
      "+----------+----------+\n",
      "\n"
     ]
    }
   ],
   "source": [
    "#dataframe that contain specific image ids\n",
    "\n",
    "df_specific_description_box_v1=df_description_box.filter((f.col('Items') == 'Human face')| (f.col('Items') == 'Woman')\\\n",
    "                                                     |(f.col('Items') == 'Man')| (f.col('Items') == 'Boy')\\\n",
    "                                                      |(f.col('Items') == 'Girl'))\n",
    "df_specific_description_box_v1.show()\n",
    "#Reference - http://www.datasciencemadesimple.com/subset-or-filter-data-with-multiple-conditions-in-pyspark/"
   ]
  },
  {
   "cell_type": "code",
   "execution_count": 8,
   "metadata": {},
   "outputs": [],
   "source": [
    "sc=SparkContext.getOrCreate()\n",
    "sqlContext = SQLContext(sc)"
   ]
  },
  {
   "cell_type": "code",
   "execution_count": 9,
   "metadata": {},
   "outputs": [],
   "source": [
    "df_labels = spark.read.format(\"com.databricks.spark.csv\").option(\"header\", \"true\").load(\"/data/google_open_image/labels/*.csv\")\n",
    "#Reference-https://stackoverflow.com/questions/44558139/how-to-read-csv-without-header-and-name-them-with-names-while-reading-in-pyspark"
   ]
  },
  {
   "cell_type": "code",
   "execution_count": 10,
   "metadata": {},
   "outputs": [
    {
     "name": "stdout",
     "output_type": "stream",
     "text": [
      "df_labels (10026278, 4)\n",
      "root\n",
      " |-- ImageID: string (nullable = true)\n",
      " |-- Source: string (nullable = true)\n",
      " |-- LabelName: string (nullable = true)\n",
      " |-- Confidence: string (nullable = true)\n",
      "\n"
     ]
    }
   ],
   "source": [
    "# Shape of all the dataframes\n",
    "print('df_labels',(df_labels.count(), len(df_labels.columns)))\n",
    "df_labels.printSchema()"
   ]
  },
  {
   "cell_type": "markdown",
   "metadata": {},
   "source": [
    "Checking if df_labels has any null values"
   ]
  },
  {
   "cell_type": "code",
   "execution_count": 11,
   "metadata": {},
   "outputs": [
    {
     "name": "stdout",
     "output_type": "stream",
     "text": [
      "+-------+------+---------+----------+\n",
      "|ImageID|Source|LabelName|Confidence|\n",
      "+-------+------+---------+----------+\n",
      "|      0|     0|        0|         0|\n",
      "+-------+------+---------+----------+\n",
      "\n"
     ]
    }
   ],
   "source": [
    "### Get count of nan or missing values in pyspark\n",
    "\n",
    "from pyspark.sql.functions import isnan, when, count, col\n",
    "df_labels.select([count(when(isnan(c), c)).alias(c) for c in df_labels.columns]).show()\n",
    "#http://www.datasciencemadesimple.com/count-of-missing-nanna-and-null-values-in-pyspark/"
   ]
  },
  {
   "cell_type": "markdown",
   "metadata": {},
   "source": [
    "No null values observed in df_labels dataframe"
   ]
  },
  {
   "cell_type": "markdown",
   "metadata": {},
   "source": [
    "### EDA 1 -Top 10 different labels with highest number of Images available in them."
   ]
  },
  {
   "cell_type": "code",
   "execution_count": 15,
   "metadata": {},
   "outputs": [],
   "source": [
    "from pyspark.sql.functions import desc\n",
    "\n",
    "df_visualize1=df_labels.groupBy('LabelName').count().sort(desc(\"count\"))\n",
    "df_visualize1=df_visualize1.withColumnRenamed(\"count\",\"Total\")"
   ]
  },
  {
   "cell_type": "code",
   "execution_count": 16,
   "metadata": {},
   "outputs": [
    {
     "name": "stdout",
     "output_type": "stream",
     "text": [
      "root\n",
      " |-- LabelName: string (nullable = true)\n",
      " |-- Total: long (nullable = false)\n",
      "\n"
     ]
    }
   ],
   "source": [
    "df_visualize1.printSchema()\n"
   ]
  },
  {
   "cell_type": "code",
   "execution_count": 17,
   "metadata": {},
   "outputs": [],
   "source": [
    "df_visualize1 = df_visualize1.toPandas()\n",
    "df_visualize1=df_visualize1.head(10)\n"
   ]
  },
  {
   "cell_type": "code",
   "execution_count": 18,
   "metadata": {},
   "outputs": [],
   "source": [
    "df_visualize1=pd.merge(df_visualize1,df_description_box.filter(col(\"LabelName\").isin(list(df_visualize1.LabelName))).toPandas(), on=['LabelName'])\n",
    "#https://stackoverflow.com/questions/44781633/join-pandas-dataframes-based-on-column-values"
   ]
  },
  {
   "cell_type": "code",
   "execution_count": 19,
   "metadata": {},
   "outputs": [
    {
     "data": {
      "text/html": [
       "<div>\n",
       "<style scoped>\n",
       "    .dataframe tbody tr th:only-of-type {\n",
       "        vertical-align: middle;\n",
       "    }\n",
       "\n",
       "    .dataframe tbody tr th {\n",
       "        vertical-align: top;\n",
       "    }\n",
       "\n",
       "    .dataframe thead th {\n",
       "        text-align: right;\n",
       "    }\n",
       "</style>\n",
       "<table border=\"1\" class=\"dataframe\">\n",
       "  <thead>\n",
       "    <tr style=\"text-align: right;\">\n",
       "      <th></th>\n",
       "      <th>LabelName</th>\n",
       "      <th>Total</th>\n",
       "      <th>Items</th>\n",
       "    </tr>\n",
       "  </thead>\n",
       "  <tbody>\n",
       "    <tr>\n",
       "      <th>0</th>\n",
       "      <td>/m/01g317</td>\n",
       "      <td>892037</td>\n",
       "      <td>Person</td>\n",
       "    </tr>\n",
       "    <tr>\n",
       "      <th>1</th>\n",
       "      <td>/m/09j2d</td>\n",
       "      <td>720911</td>\n",
       "      <td>Clothing</td>\n",
       "    </tr>\n",
       "    <tr>\n",
       "      <th>2</th>\n",
       "      <td>/m/04yx4</td>\n",
       "      <td>492675</td>\n",
       "      <td>Man</td>\n",
       "    </tr>\n",
       "    <tr>\n",
       "      <th>3</th>\n",
       "      <td>/m/05s2s</td>\n",
       "      <td>486300</td>\n",
       "      <td>Plant</td>\n",
       "    </tr>\n",
       "    <tr>\n",
       "      <th>4</th>\n",
       "      <td>/m/07j7r</td>\n",
       "      <td>458747</td>\n",
       "      <td>Tree</td>\n",
       "    </tr>\n",
       "    <tr>\n",
       "      <th>5</th>\n",
       "      <td>/m/0dzct</td>\n",
       "      <td>410061</td>\n",
       "      <td>Human face</td>\n",
       "    </tr>\n",
       "    <tr>\n",
       "      <th>6</th>\n",
       "      <td>/m/03bt1vf</td>\n",
       "      <td>393642</td>\n",
       "      <td>Woman</td>\n",
       "    </tr>\n",
       "    <tr>\n",
       "      <th>7</th>\n",
       "      <td>/m/05r655</td>\n",
       "      <td>299439</td>\n",
       "      <td>Girl</td>\n",
       "    </tr>\n",
       "    <tr>\n",
       "      <th>8</th>\n",
       "      <td>/m/07yv9</td>\n",
       "      <td>283084</td>\n",
       "      <td>Vehicle</td>\n",
       "    </tr>\n",
       "    <tr>\n",
       "      <th>9</th>\n",
       "      <td>/m/0cgh4</td>\n",
       "      <td>272843</td>\n",
       "      <td>Building</td>\n",
       "    </tr>\n",
       "  </tbody>\n",
       "</table>\n",
       "</div>"
      ],
      "text/plain": [
       "    LabelName   Total       Items\n",
       "0   /m/01g317  892037      Person\n",
       "1    /m/09j2d  720911    Clothing\n",
       "2    /m/04yx4  492675         Man\n",
       "3    /m/05s2s  486300       Plant\n",
       "4    /m/07j7r  458747        Tree\n",
       "5    /m/0dzct  410061  Human face\n",
       "6  /m/03bt1vf  393642       Woman\n",
       "7   /m/05r655  299439        Girl\n",
       "8    /m/07yv9  283084     Vehicle\n",
       "9    /m/0cgh4  272843    Building"
      ]
     },
     "execution_count": 19,
     "metadata": {},
     "output_type": "execute_result"
    }
   ],
   "source": [
    "df_visualize1"
   ]
  },
  {
   "cell_type": "code",
   "execution_count": 27,
   "metadata": {},
   "outputs": [
    {
     "data": {
      "image/png": "[encoded data removed]",
      "text/plain": [
       "<Figure size 1080x504 with 1 Axes>"
      ]
     },
     "metadata": {
      "needs_background": "light"
     },
     "output_type": "display_data"
    }
   ],
   "source": [
    "import matplotlib.pyplot as plt\n",
    "fig = plt.figure()\n",
    "ax = fig.add_axes([0,0,1,1])\n",
    "X = list(df_visualize1.Items)\n",
    "Y = list(df_visualize1.Total)\n",
    "ax.bar(X,Y)\n",
    "ax.set_ylabel('Total image count')\n",
    "ax.set_xlabel('LabelName')\n",
    "ax.set_title('Top 10 different labels with highest number of Images available in them')\n",
    "fig.set_size_inches(15, 7)\n",
    "#https://www.tutorialspoint.com/matplotlib/matplotlib_bar_plot.html"
   ]
  },
  {
   "cell_type": "code",
   "execution_count": 28,
   "metadata": {},
   "outputs": [],
   "source": [
    "#Carrying out labels with specific values\n",
    "df_labels_v2=df_labels.filter((f.col('LabelName') == '/m/0dzct') | (f.col('LabelName') == '/m/03bt1vf')\\\n",
    "                               | (f.col('LabelName') == '/m/04yx4') | (f.col('LabelName') == '/m/05r655')\\\n",
    "                               | (f.col('LabelName') == '/m/0dzct')\n",
    "                              )\n"
   ]
  },
  {
   "cell_type": "code",
   "execution_count": 29,
   "metadata": {},
   "outputs": [],
   "source": [
    "#Grouping by ImageIDs and concatenating Labelnames\n",
    "df_labels_v3=df_labels_v2.groupby(\"ImageID\").agg(f.concat_ws(\", \", f.collect_list(df_labels_v2.LabelName)).alias(\"LabelName\"),\n",
    "                                                     f.collect_list(df_labels_v2.Confidence))\n",
    "df_labels_v3=df_labels_v3.withColumnRenamed(\"collect_list(Confidence)\",\"Confidence_concat\")\n",
    "\n",
    "\n",
    "#Reference - https://stackoverflow.com/questions/41788919/concatenating-string-by-rows-in-pyspark"
   ]
  },
  {
   "cell_type": "markdown",
   "metadata": {},
   "source": [
    "This above dataframe contains image ids with human face and along with man and woman . \n",
    "We need human face and (man/woman/girl/boy) image id indiviually . \n",
    "for that we will carry out images id with label name as 'Human face' and 'Girl'/'Boy'/'Woman'/'Man'"
   ]
  },
  {
   "cell_type": "code",
   "execution_count": 30,
   "metadata": {},
   "outputs": [],
   "source": [
    "df_labels_concat_v4=df_labels_v3.filter(\n",
    "    (f.col('LabelName') == '/m/0dzct, /m/01bl7v')\\\n",
    "    |(f.col('LabelName') == '/m/0dzct, /m/03bt1vf')\\\n",
    "    |(f.col('LabelName') == '/m/0dzct, /m/04yx4')\\\n",
    "    |(f.col('LabelName') == '/m/0dzct, /m/05r655')\\\n",
    "    |(f.col('LabelName') == '/m/05r655, /m/0dzct')\\\n",
    "    |(f.col('LabelName') == '/m/04yx4, /m/0dzct')\\\n",
    "    |(f.col('LabelName') == '/m/03bt1vf, /m/0dzct')\\\n",
    "    |(f.col('LabelName') == '/m/01bl7v, /m/0dzct')\\\n",
    ")"
   ]
  },
  {
   "cell_type": "code",
   "execution_count": 31,
   "metadata": {},
   "outputs": [
    {
     "name": "stdout",
     "output_type": "stream",
     "text": [
      "root\n",
      " |-- ImageID: string (nullable = true)\n",
      " |-- LabelName: string (nullable = false)\n",
      " |-- Confidence_concat: array (nullable = true)\n",
      " |    |-- element: string (containsNull = true)\n",
      "\n"
     ]
    }
   ],
   "source": [
    "df_labels_concat_v4.printSchema()"
   ]
  },
  {
   "cell_type": "code",
   "execution_count": 32,
   "metadata": {},
   "outputs": [
    {
     "name": "stdout",
     "output_type": "stream",
     "text": [
      "+-----------------+\n",
      "|Confidence_concat|\n",
      "+-----------------+\n",
      "|           [1, 1]|\n",
      "|           [0, 1]|\n",
      "|           [0, 0]|\n",
      "|           [1, 0]|\n",
      "+-----------------+\n",
      "\n"
     ]
    }
   ],
   "source": [
    "df_labels_concat_v4.select('Confidence_concat').distinct().show()"
   ]
  },
  {
   "cell_type": "markdown",
   "metadata": {},
   "source": [
    "Only imageID's with high confidence would be used as features."
   ]
  },
  {
   "cell_type": "code",
   "execution_count": 33,
   "metadata": {},
   "outputs": [],
   "source": [
    "#Using UDF to carry out good images nad bad images using confidence column\n",
    "#https://stackoverflow.com/questions/51383298/how-to-create-new-column-based-on-values-in-array-column-in-pyspark\n",
    "def any_isin(ref_values, array_to_search):\n",
    "    label = 'none'\n",
    "    for key, values in ref_values.items():\n",
    "        if any(item in array_to_search for item in values):\n",
    "            label=key\n",
    "            break\n",
    "    return label\n",
    "\n",
    "any_isin_udf = lambda ref_values: (\n",
    "    f.udf(lambda array_to_search: any_isin(ref_values, array_to_search), StringType())\n",
    ")\n",
    "\n"
   ]
  },
  {
   "cell_type": "code",
   "execution_count": 73,
   "metadata": {},
   "outputs": [],
   "source": [
    "good_or_bad_images_code={'Bad Image': ['0','1'],\n",
    "                       'Bad Image': ['1','0'],\n",
    "                       'Bad Image': ['0','0'],\n",
    "                       'Good Image': ['1','1']}\n",
    "\n",
    "df_labels_concat_v5 = df_labels_concat_v4.withColumn('Good/Bad', any_isin_udf(good_or_bad_images_code)(f.col('Confidence_concat')))\n"
   ]
  },
  {
   "cell_type": "code",
   "execution_count": 74,
   "metadata": {},
   "outputs": [
    {
     "data": {
      "text/plain": [
       "105518"
      ]
     },
     "execution_count": 74,
     "metadata": {},
     "output_type": "execute_result"
    }
   ],
   "source": [
    "df_labels_concat_v5.count()"
   ]
  },
  {
   "cell_type": "code",
   "execution_count": 75,
   "metadata": {},
   "outputs": [],
   "source": [
    "df_labels_concat_v6 = df_labels_concat_v5.withColumn(\n",
    "    'Target_Label',\n",
    "    f.when((f.col(\"LabelName\") == '/m/0dzct, /m/01bl7v'), 'Male')\\\n",
    "    .when((f.col(\"LabelName\") == '/m/0dzct, /m/03bt1vf'), 'Female')\\\n",
    "    .when((f.col(\"LabelName\") == '/m/0dzct, /m/04yx4'), 'Male')\\\n",
    "    .when((f.col(\"LabelName\") == '/m/0dzct, /m/05r655'), 'Female')\\\n",
    "    .when((f.col(\"LabelName\") == '/m/05r655, /m/0dzct'), 'Female')\\\n",
    "    .when((f.col(\"LabelName\") == '/m/04yx4, /m/0dzct'), 'Male')\\\n",
    "    .when((f.col(\"LabelName\") == '/m/03bt1vf, /m/0dzct'), 'Female')\\\n",
    "    .when((f.col(\"LabelName\") == '/m/01bl7v, /m/0dzct'), 'Male')\\\n",
    ")\n",
    "#https://stackoverflow.com/questions/51565395/pyspark-create-new-column-and-fill-in-based-on-conditions-of-two-other-columns"
   ]
  },
  {
   "cell_type": "code",
   "execution_count": 76,
   "metadata": {},
   "outputs": [
    {
     "name": "stdout",
     "output_type": "stream",
     "text": [
      "root\n",
      " |-- ImageID: string (nullable = true)\n",
      " |-- LabelName: string (nullable = false)\n",
      " |-- Confidence_concat: array (nullable = true)\n",
      " |    |-- element: string (containsNull = true)\n",
      " |-- Good/Bad: string (nullable = true)\n",
      " |-- Target_Label: string (nullable = true)\n",
      "\n"
     ]
    }
   ],
   "source": [
    "df_labels_concat_v6.printSchema()"
   ]
  },
  {
   "cell_type": "code",
   "execution_count": 77,
   "metadata": {},
   "outputs": [
    {
     "name": "stdout",
     "output_type": "stream",
     "text": [
      "+------------+\n",
      "|Target_Label|\n",
      "+------------+\n",
      "|      Female|\n",
      "|        Male|\n",
      "+------------+\n",
      "\n"
     ]
    }
   ],
   "source": [
    "df_labels_concat_v6.select('Target_Label').distinct().show()"
   ]
  },
  {
   "cell_type": "markdown",
   "metadata": {},
   "source": [
    "### EDA 2 -Count of Good images and Bad images of Human Face for Male and Female indiviually\n"
   ]
  },
  {
   "cell_type": "code",
   "execution_count": 97,
   "metadata": {},
   "outputs": [
    {
     "name": "stdout",
     "output_type": "stream",
     "text": [
      "+------------+----------+-----+\n",
      "|Target_Label|  Good/Bad|Total|\n",
      "+------------+----------+-----+\n",
      "|        Male|Good Image|60088|\n",
      "|      Female| Bad Image|16545|\n",
      "|      Female|Good Image|17889|\n",
      "|        Male| Bad Image|10996|\n",
      "+------------+----------+-----+\n",
      "\n"
     ]
    }
   ],
   "source": [
    "df_visualize2=df_labels_concat_v6.groupBy('Target_Label','Good/Bad').count()\n",
    "df_visualize2=df_visualize2.withColumnRenamed(\"count\",\"Total\")\n",
    "df_visualize2.show()"
   ]
  },
  {
   "cell_type": "code",
   "execution_count": 123,
   "metadata": {},
   "outputs": [],
   "source": [
    "df_visualize2_pandas=df_visualize2.toPandas()"
   ]
  },
  {
   "cell_type": "code",
   "execution_count": 124,
   "metadata": {},
   "outputs": [],
   "source": [
    "#df_visualize2_pandas=df_visualize2_pandas.set_index('Target_Label')"
   ]
  },
  {
   "cell_type": "code",
   "execution_count": 125,
   "metadata": {},
   "outputs": [
    {
     "data": {
      "text/html": [
       "<div>\n",
       "<style scoped>\n",
       "    .dataframe tbody tr th:only-of-type {\n",
       "        vertical-align: middle;\n",
       "    }\n",
       "\n",
       "    .dataframe tbody tr th {\n",
       "        vertical-align: top;\n",
       "    }\n",
       "\n",
       "    .dataframe thead th {\n",
       "        text-align: right;\n",
       "    }\n",
       "</style>\n",
       "<table border=\"1\" class=\"dataframe\">\n",
       "  <thead>\n",
       "    <tr style=\"text-align: right;\">\n",
       "      <th></th>\n",
       "      <th>Target_Label</th>\n",
       "      <th>Good/Bad</th>\n",
       "      <th>Total</th>\n",
       "    </tr>\n",
       "  </thead>\n",
       "  <tbody>\n",
       "    <tr>\n",
       "      <th>0</th>\n",
       "      <td>Male</td>\n",
       "      <td>Good Image</td>\n",
       "      <td>60088</td>\n",
       "    </tr>\n",
       "    <tr>\n",
       "      <th>1</th>\n",
       "      <td>Female</td>\n",
       "      <td>Bad Image</td>\n",
       "      <td>16545</td>\n",
       "    </tr>\n",
       "    <tr>\n",
       "      <th>2</th>\n",
       "      <td>Female</td>\n",
       "      <td>Good Image</td>\n",
       "      <td>17889</td>\n",
       "    </tr>\n",
       "    <tr>\n",
       "      <th>3</th>\n",
       "      <td>Male</td>\n",
       "      <td>Bad Image</td>\n",
       "      <td>10996</td>\n",
       "    </tr>\n",
       "  </tbody>\n",
       "</table>\n",
       "</div>"
      ],
      "text/plain": [
       "  Target_Label    Good/Bad  Total\n",
       "0         Male  Good Image  60088\n",
       "1       Female   Bad Image  16545\n",
       "2       Female  Good Image  17889\n",
       "3         Male   Bad Image  10996"
      ]
     },
     "execution_count": 125,
     "metadata": {},
     "output_type": "execute_result"
    }
   ],
   "source": [
    "df_visualize2_pandas"
   ]
  },
  {
   "cell_type": "code",
   "execution_count": 136,
   "metadata": {},
   "outputs": [],
   "source": [
    "# creating separate dataframe for male and femalet\n",
    "df_visualize2_1=df_visualize2.filter((f.col('Good/Bad') == 'Good Image'))\n",
    "df_visualize2_2=df_visualize2.filter((f.col('Good/Bad') == 'Bad Image'))\n"
   ]
  },
  {
   "cell_type": "code",
   "execution_count": 137,
   "metadata": {},
   "outputs": [],
   "source": [
    "df_visualize2_1=df_visualize2_1.toPandas()\n",
    "df_visualize2_2=df_visualize2_2.toPandas()"
   ]
  },
  {
   "cell_type": "code",
   "execution_count": 149,
   "metadata": {},
   "outputs": [
    {
     "data": {
      "text/html": [
       "<div>\n",
       "<style scoped>\n",
       "    .dataframe tbody tr th:only-of-type {\n",
       "        vertical-align: middle;\n",
       "    }\n",
       "\n",
       "    .dataframe tbody tr th {\n",
       "        vertical-align: top;\n",
       "    }\n",
       "\n",
       "    .dataframe thead th {\n",
       "        text-align: right;\n",
       "    }\n",
       "</style>\n",
       "<table border=\"1\" class=\"dataframe\">\n",
       "  <thead>\n",
       "    <tr style=\"text-align: right;\">\n",
       "      <th></th>\n",
       "      <th>Target_Label</th>\n",
       "      <th>Good/Bad</th>\n",
       "      <th>Total</th>\n",
       "    </tr>\n",
       "  </thead>\n",
       "  <tbody>\n",
       "    <tr>\n",
       "      <th>1</th>\n",
       "      <td>Female</td>\n",
       "      <td>Good Image</td>\n",
       "      <td>17889</td>\n",
       "    </tr>\n",
       "    <tr>\n",
       "      <th>0</th>\n",
       "      <td>Male</td>\n",
       "      <td>Good Image</td>\n",
       "      <td>60088</td>\n",
       "    </tr>\n",
       "  </tbody>\n",
       "</table>\n",
       "</div>"
      ],
      "text/plain": [
       "  Target_Label    Good/Bad  Total\n",
       "1       Female  Good Image  17889\n",
       "0         Male  Good Image  60088"
      ]
     },
     "execution_count": 149,
     "metadata": {},
     "output_type": "execute_result"
    }
   ],
   "source": [
    "#df_visualize2_1=df_visualize2_1.set_index('Target_Label')\n",
    "df_visualize2_1=df_visualize2_1.sort_index(ascending=False)\n",
    "df_visualize2_1"
   ]
  },
  {
   "cell_type": "code",
   "execution_count": 150,
   "metadata": {},
   "outputs": [
    {
     "data": {
      "text/html": [
       "<div>\n",
       "<style scoped>\n",
       "    .dataframe tbody tr th:only-of-type {\n",
       "        vertical-align: middle;\n",
       "    }\n",
       "\n",
       "    .dataframe tbody tr th {\n",
       "        vertical-align: top;\n",
       "    }\n",
       "\n",
       "    .dataframe thead th {\n",
       "        text-align: right;\n",
       "    }\n",
       "</style>\n",
       "<table border=\"1\" class=\"dataframe\">\n",
       "  <thead>\n",
       "    <tr style=\"text-align: right;\">\n",
       "      <th></th>\n",
       "      <th>Target_Label</th>\n",
       "      <th>Good/Bad</th>\n",
       "      <th>Total</th>\n",
       "    </tr>\n",
       "  </thead>\n",
       "  <tbody>\n",
       "    <tr>\n",
       "      <th>0</th>\n",
       "      <td>Female</td>\n",
       "      <td>Bad Image</td>\n",
       "      <td>16545</td>\n",
       "    </tr>\n",
       "    <tr>\n",
       "      <th>1</th>\n",
       "      <td>Male</td>\n",
       "      <td>Bad Image</td>\n",
       "      <td>10996</td>\n",
       "    </tr>\n",
       "  </tbody>\n",
       "</table>\n",
       "</div>"
      ],
      "text/plain": [
       "  Target_Label   Good/Bad  Total\n",
       "0       Female  Bad Image  16545\n",
       "1         Male  Bad Image  10996"
      ]
     },
     "execution_count": 150,
     "metadata": {},
     "output_type": "execute_result"
    }
   ],
   "source": [
    "#df_visualize2_2=df_visualize2_2.set_index('Target_Label')\n",
    "df_visualize2_2"
   ]
  },
  {
   "cell_type": "code",
   "execution_count": 156,
   "metadata": {},
   "outputs": [
    {
     "data": {
      "image/png": "[encoded data removed]",
      "text/plain": [
       "<Figure size 432x288 with 1 Axes>"
      ]
     },
     "metadata": {},
     "output_type": "display_data"
    }
   ],
   "source": [
    "#plotting data using matplotlib\n",
    "ax = df_visualize2_1.plot(x='Target_Label', y='Total', kind=\"bar\", color =\"C1\")\n",
    "df_visualize2_2.plot(x=\"Target_Label\", y=\"Total\", kind=\"bar\", ax=ax, color=\"C2\")\n",
    "ax.set_ylabel('Total image count')\n",
    "ax.set_xlabel('Male/Female')\n",
    "ax.set_title('Count of Good images and Bad images of Human Face for Male and Female indiviually')\n",
    "ax.legend(labels=['Good Image', 'bad Image'])\n",
    "plt.show()"
   ]
  },
  {
   "cell_type": "code",
   "execution_count": 79,
   "metadata": {},
   "outputs": [],
   "source": [
    "#Carrying out only images with good images"
   ]
  },
  {
   "cell_type": "code",
   "execution_count": 80,
   "metadata": {},
   "outputs": [],
   "source": [
    "df_labels_concat_v7=df_labels_concat_v6.filter((f.col('Good/Bad') == 'Good Image'))"
   ]
  },
  {
   "cell_type": "code",
   "execution_count": 81,
   "metadata": {},
   "outputs": [
    {
     "data": {
      "text/plain": [
       "77977"
      ]
     },
     "execution_count": 81,
     "metadata": {},
     "output_type": "execute_result"
    }
   ],
   "source": [
    "df_labels_concat_v7.count()"
   ]
  },
  {
   "cell_type": "code",
   "execution_count": 82,
   "metadata": {},
   "outputs": [
    {
     "data": {
      "text/html": [
       "<div>\n",
       "<style scoped>\n",
       "    .dataframe tbody tr th:only-of-type {\n",
       "        vertical-align: middle;\n",
       "    }\n",
       "\n",
       "    .dataframe tbody tr th {\n",
       "        vertical-align: top;\n",
       "    }\n",
       "\n",
       "    .dataframe thead th {\n",
       "        text-align: right;\n",
       "    }\n",
       "</style>\n",
       "<table border=\"1\" class=\"dataframe\">\n",
       "  <thead>\n",
       "    <tr style=\"text-align: right;\">\n",
       "      <th></th>\n",
       "      <th>ImageID</th>\n",
       "      <th>LabelName</th>\n",
       "      <th>Confidence_concat</th>\n",
       "      <th>Good/Bad</th>\n",
       "      <th>Target_Label</th>\n",
       "    </tr>\n",
       "  </thead>\n",
       "  <tbody>\n",
       "    <tr>\n",
       "      <th>0</th>\n",
       "      <td>001094620459cb98</td>\n",
       "      <td>/m/04yx4, /m/0dzct</td>\n",
       "      <td>[1, 1]</td>\n",
       "      <td>Good Image</td>\n",
       "      <td>Male</td>\n",
       "    </tr>\n",
       "    <tr>\n",
       "      <th>1</th>\n",
       "      <td>001bf60cd96147ea</td>\n",
       "      <td>/m/05r655, /m/0dzct</td>\n",
       "      <td>[1, 1]</td>\n",
       "      <td>Good Image</td>\n",
       "      <td>Female</td>\n",
       "    </tr>\n",
       "    <tr>\n",
       "      <th>2</th>\n",
       "      <td>003bc013f9dd0aef</td>\n",
       "      <td>/m/04yx4, /m/0dzct</td>\n",
       "      <td>[1, 1]</td>\n",
       "      <td>Good Image</td>\n",
       "      <td>Male</td>\n",
       "    </tr>\n",
       "    <tr>\n",
       "      <th>3</th>\n",
       "      <td>0178e24a337652ef</td>\n",
       "      <td>/m/04yx4, /m/0dzct</td>\n",
       "      <td>[1, 1]</td>\n",
       "      <td>Good Image</td>\n",
       "      <td>Male</td>\n",
       "    </tr>\n",
       "    <tr>\n",
       "      <th>4</th>\n",
       "      <td>018e424b73f04e52</td>\n",
       "      <td>/m/04yx4, /m/0dzct</td>\n",
       "      <td>[1, 1]</td>\n",
       "      <td>Good Image</td>\n",
       "      <td>Male</td>\n",
       "    </tr>\n",
       "  </tbody>\n",
       "</table>\n",
       "</div>"
      ],
      "text/plain": [
       "            ImageID            LabelName Confidence_concat    Good/Bad  \\\n",
       "0  001094620459cb98   /m/04yx4, /m/0dzct            [1, 1]  Good Image   \n",
       "1  001bf60cd96147ea  /m/05r655, /m/0dzct            [1, 1]  Good Image   \n",
       "2  003bc013f9dd0aef   /m/04yx4, /m/0dzct            [1, 1]  Good Image   \n",
       "3  0178e24a337652ef   /m/04yx4, /m/0dzct            [1, 1]  Good Image   \n",
       "4  018e424b73f04e52   /m/04yx4, /m/0dzct            [1, 1]  Good Image   \n",
       "\n",
       "  Target_Label  \n",
       "0         Male  \n",
       "1       Female  \n",
       "2         Male  \n",
       "3         Male  \n",
       "4         Male  "
      ]
     },
     "execution_count": 82,
     "metadata": {},
     "output_type": "execute_result"
    }
   ],
   "source": [
    "df_labels_concat_v7.limit(5).toPandas()"
   ]
  },
  {
   "cell_type": "code",
   "execution_count": 83,
   "metadata": {},
   "outputs": [
    {
     "name": "stdout",
     "output_type": "stream",
     "text": [
      "+--------------------+\n",
      "|           LabelName|\n",
      "+--------------------+\n",
      "|/m/03bt1vf, /m/0dzct|\n",
      "| /m/05r655, /m/0dzct|\n",
      "|/m/0dzct, /m/03bt1vf|\n",
      "|  /m/0dzct, /m/04yx4|\n",
      "| /m/0dzct, /m/05r655|\n",
      "|  /m/04yx4, /m/0dzct|\n",
      "+--------------------+\n",
      "\n"
     ]
    }
   ],
   "source": [
    "df_labels_concat_v7.select('LabelName').distinct().show()"
   ]
  },
  {
   "cell_type": "code",
   "execution_count": 43,
   "metadata": {},
   "outputs": [],
   "source": [
    "# Carrying out 100 images of female and 100 image of male to fit he model for now to save resources\n",
    "df_sample_data=(df_labels_concat_v7.filter((f.col('Target_Label') == 'Female')).limit(150)).union((df_labels_concat_v7.filter((f.col('Target_Label') == 'Male')).limit(150)))\n"
   ]
  },
  {
   "cell_type": "code",
   "execution_count": 44,
   "metadata": {},
   "outputs": [
    {
     "data": {
      "text/plain": [
       "300"
      ]
     },
     "execution_count": 44,
     "metadata": {},
     "output_type": "execute_result"
    }
   ],
   "source": [
    "df_sample_data.count()"
   ]
  },
  {
   "cell_type": "code",
   "execution_count": 45,
   "metadata": {},
   "outputs": [
    {
     "name": "stdout",
     "output_type": "stream",
     "text": [
      "root\n",
      " |-- ImageID: string (nullable = true)\n",
      " |-- LabelName: string (nullable = false)\n",
      " |-- Confidence_concat: array (nullable = true)\n",
      " |    |-- element: string (containsNull = true)\n",
      " |-- Good/Bad: string (nullable = true)\n",
      " |-- Target_Label: string (nullable = true)\n",
      "\n"
     ]
    }
   ],
   "source": [
    "df_sample_data.printSchema()"
   ]
  },
  {
   "cell_type": "code",
   "execution_count": 46,
   "metadata": {},
   "outputs": [],
   "source": [
    "spark.catalog.clearCache()\n",
    "sqlContext.clearCache()"
   ]
  },
  {
   "cell_type": "code",
   "execution_count": 53,
   "metadata": {},
   "outputs": [],
   "source": [
    "#Loading bounding boxes data\n",
    "df_image_parquet_withdata = spark.read.parquet('/etl/google_open_image/images.parquet')\n"
   ]
  },
  {
   "cell_type": "code",
   "execution_count": 54,
   "metadata": {},
   "outputs": [
    {
     "name": "stdout",
     "output_type": "stream",
     "text": [
      "df_image_parquet_withdata (1910098, 14)\n",
      "root\n",
      " |-- ImageID: string (nullable = true)\n",
      " |-- Subset: string (nullable = true)\n",
      " |-- Format: string (nullable = true)\n",
      " |-- Data: binary (nullable = true)\n",
      " |-- OriginalURL: string (nullable = true)\n",
      " |-- OriginalLandingURL: string (nullable = true)\n",
      " |-- License: string (nullable = true)\n",
      " |-- AuthorProfileURL: string (nullable = true)\n",
      " |-- Author: string (nullable = true)\n",
      " |-- Title: string (nullable = true)\n",
      " |-- OriginalSize: string (nullable = true)\n",
      " |-- OriginalMD5: string (nullable = true)\n",
      " |-- Thumbnail300KURL: string (nullable = true)\n",
      " |-- Rotation: string (nullable = true)\n",
      "\n"
     ]
    }
   ],
   "source": [
    "# Shape of all the dataframes\n",
    "print('df_image_parquet_withdata',(df_image_parquet_withdata.count(), len(df_image_parquet_withdata.columns)))\n",
    "df_image_parquet_withdata.printSchema()"
   ]
  },
  {
   "cell_type": "markdown",
   "metadata": {},
   "source": [
    "Checking if df_image_parquet_withdata has any null values"
   ]
  },
  {
   "cell_type": "markdown",
   "metadata": {},
   "source": [
    "creating a list of dataframe column names and removing ‘Data’ column from that and giving those specific columns to isnan() method to check for null values."
   ]
  },
  {
   "cell_type": "code",
   "execution_count": 49,
   "metadata": {},
   "outputs": [
    {
     "data": {
      "text/plain": [
       "['ImageID',\n",
       " 'Subset',\n",
       " 'Format',\n",
       " 'OriginalURL',\n",
       " 'OriginalLandingURL',\n",
       " 'License',\n",
       " 'AuthorProfileURL',\n",
       " 'Author',\n",
       " 'Title',\n",
       " 'OriginalSize',\n",
       " 'OriginalMD5',\n",
       " 'Thumbnail300KURL',\n",
       " 'Rotation']"
      ]
     },
     "execution_count": 49,
     "metadata": {},
     "output_type": "execute_result"
    }
   ],
   "source": [
    "col_name_parquet=(df_image_parquet_withdata.columns)\n",
    "col_name_parquet.remove('Data')\n",
    "col_name_parquet"
   ]
  },
  {
   "cell_type": "code",
   "execution_count": 50,
   "metadata": {},
   "outputs": [
    {
     "data": {
      "text/html": [
       "<div>\n",
       "<style scoped>\n",
       "    .dataframe tbody tr th:only-of-type {\n",
       "        vertical-align: middle;\n",
       "    }\n",
       "\n",
       "    .dataframe tbody tr th {\n",
       "        vertical-align: top;\n",
       "    }\n",
       "\n",
       "    .dataframe thead th {\n",
       "        text-align: right;\n",
       "    }\n",
       "</style>\n",
       "<table border=\"1\" class=\"dataframe\">\n",
       "  <thead>\n",
       "    <tr style=\"text-align: right;\">\n",
       "      <th></th>\n",
       "      <th>ImageID</th>\n",
       "      <th>Subset</th>\n",
       "      <th>Format</th>\n",
       "      <th>OriginalURL</th>\n",
       "      <th>OriginalLandingURL</th>\n",
       "      <th>License</th>\n",
       "      <th>AuthorProfileURL</th>\n",
       "      <th>Author</th>\n",
       "      <th>Title</th>\n",
       "      <th>OriginalSize</th>\n",
       "      <th>OriginalMD5</th>\n",
       "      <th>Thumbnail300KURL</th>\n",
       "      <th>Rotation</th>\n",
       "    </tr>\n",
       "  </thead>\n",
       "  <tbody>\n",
       "    <tr>\n",
       "      <th>0</th>\n",
       "      <td>0</td>\n",
       "      <td>0</td>\n",
       "      <td>0</td>\n",
       "      <td>0</td>\n",
       "      <td>0</td>\n",
       "      <td>0</td>\n",
       "      <td>0</td>\n",
       "      <td>0</td>\n",
       "      <td>0</td>\n",
       "      <td>0</td>\n",
       "      <td>0</td>\n",
       "      <td>0</td>\n",
       "      <td>0</td>\n",
       "    </tr>\n",
       "  </tbody>\n",
       "</table>\n",
       "</div>"
      ],
      "text/plain": [
       "   ImageID  Subset  Format  OriginalURL  OriginalLandingURL  License  \\\n",
       "0        0       0       0            0                   0        0   \n",
       "\n",
       "   AuthorProfileURL  Author  Title  OriginalSize  OriginalMD5  \\\n",
       "0                 0       0      0             0            0   \n",
       "\n",
       "   Thumbnail300KURL  Rotation  \n",
       "0                 0         0  "
      ]
     },
     "execution_count": 50,
     "metadata": {},
     "output_type": "execute_result"
    }
   ],
   "source": [
    "### Get count of nan or missing values in pyspark\n",
    "\n",
    "from pyspark.sql.functions import isnan, when, count, col\n",
    "df_image_parquet_withdata.select([count(when(isnan(c), c)).alias(c) for c in col_name_parquet]).toPandas()\n",
    "#http://www.datasciencemadesimple.com/count-of-missing-nanna-and-null-values-in-pyspark/"
   ]
  },
  {
   "cell_type": "markdown",
   "metadata": {},
   "source": [
    "No null values observed in df_image_parquet_withdata dataframe"
   ]
  },
  {
   "cell_type": "markdown",
   "metadata": {},
   "source": []
  },
  {
   "cell_type": "code",
   "execution_count": null,
   "metadata": {},
   "outputs": [],
   "source": [
    "# dropping unwanted columns\n",
    "df_image_parquet=df_image_parquet_withdata.drop('LabelName','Format','OriginalLandingURL','License','AuthorProfileURL',\n",
    "            'Author','Title','OriginalSize','OriginalMD5','Thumbnail300KURL','Rotation'\n",
    "           )\n",
    "#Reference- from lecture slides"
   ]
  },
  {
   "cell_type": "code",
   "execution_count": null,
   "metadata": {},
   "outputs": [],
   "source": [
    "df_sample_data_v2=df_sample_data.join(df_image_parquet,['ImageID'],\"left\")\n"
   ]
  },
  {
   "cell_type": "code",
   "execution_count": null,
   "metadata": {},
   "outputs": [],
   "source": [
    "df_sample_data_v2.printSchema()"
   ]
  },
  {
   "cell_type": "code",
   "execution_count": null,
   "metadata": {},
   "outputs": [],
   "source": [
    "df_sample_data_v2.count()"
   ]
  },
  {
   "cell_type": "code",
   "execution_count": null,
   "metadata": {},
   "outputs": [],
   "source": [
    "spark.catalog.clearCache()\n",
    "sqlContext.clearCache()\n"
   ]
  },
  {
   "cell_type": "code",
   "execution_count": null,
   "metadata": {},
   "outputs": [],
   "source": [
    "# Read the 3 bounding box csv files.\n",
    "bounding_boxes_1 = spark.read.csv('/data/google_open_image/bboxes/test-annotations-bbox.csv', header = True)\n",
    "bounding_boxes_2 = spark.read.csv('/data/google_open_image/bboxes/train-annotations-bbox.csv', header = True)\n",
    "bounding_boxes_3 = spark.read.csv('/data/google_open_image/bboxes/validation-annotations-bbox.csv', header = True)\n",
    "\n",
    "# Join the dataframes into a single dataframe.\n",
    "bounding_boxes = bounding_boxes_1.union(bounding_boxes_2).union(bounding_boxes_3)"
   ]
  },
  {
   "cell_type": "code",
   "execution_count": null,
   "metadata": {},
   "outputs": [],
   "source": [
    "bounding_boxes.count()"
   ]
  },
  {
   "cell_type": "code",
   "execution_count": null,
   "metadata": {},
   "outputs": [],
   "source": [
    "# Verify the schema\n",
    "bounding_boxes.printSchema()"
   ]
  },
  {
   "cell_type": "markdown",
   "metadata": {},
   "source": [
    "Checking if df_labels has any null values"
   ]
  },
  {
   "cell_type": "code",
   "execution_count": null,
   "metadata": {},
   "outputs": [],
   "source": [
    "### Get count of nan or missing values in pyspark\n",
    "\n",
    "from pyspark.sql.functions import isnan, when, count, col\n",
    "bounding_boxes.select([count(when(isnan(c), c)).alias(c) for c in bounding_boxes.columns]).show()\n",
    "#http://www.datasciencemadesimple.com/count-of-missing-nanna-and-null-values-in-pyspark/"
   ]
  },
  {
   "cell_type": "markdown",
   "metadata": {},
   "source": [
    "No null values observed in bounding_boxes dataframe"
   ]
  },
  {
   "cell_type": "code",
   "execution_count": null,
   "metadata": {},
   "outputs": [],
   "source": [
    "bounding_boxes = bounding_boxes.drop('LabelName')"
   ]
  },
  {
   "cell_type": "code",
   "execution_count": null,
   "metadata": {},
   "outputs": [],
   "source": [
    "# Join on ImageID to get just the bounding boxes we have image data for.\n",
    "df_data = df_sample_data_v2.join(bounding_boxes, on = 'ImageID', how = 'left')"
   ]
  },
  {
   "cell_type": "code",
   "execution_count": null,
   "metadata": {},
   "outputs": [],
   "source": [
    "df_data.printSchema()"
   ]
  },
  {
   "cell_type": "code",
   "execution_count": null,
   "metadata": {},
   "outputs": [],
   "source": [
    "df_data.count()"
   ]
  },
  {
   "cell_type": "code",
   "execution_count": null,
   "metadata": {},
   "outputs": [],
   "source": [
    "spark.catalog.clearCache()\n",
    "sqlContext.clearCache()\n",
    "#https://stackoverflow.com/questions/36905717/un-persisting-all-dataframes-in-pyspark"
   ]
  },
  {
   "cell_type": "markdown",
   "metadata": {},
   "source": [
    "Extracting chip_data using udf"
   ]
  },
  {
   "cell_type": "code",
   "execution_count": null,
   "metadata": {},
   "outputs": [],
   "source": [
    "def extract_chip(data, xmin, xmax, ymin, ymax):\n",
    "    from PIL import Image\n",
    "    import io, math\n",
    "    \n",
    "    # Read the image data using Pillow\n",
    "    img = Image.open(io.BytesIO(data))\n",
    "    # Get the size of the image \n",
    "    (width, height) = img.size\n",
    "    \n",
    "    # Calculate the bounding box pixels\n",
    "    # observe the use of float function here. That's necessary\n",
    "    # because the bounding box data were read in as strings, not doubles.\n",
    "    left = math.floor(float(xmin)*width)\n",
    "    upper = math.floor(float(ymin)*height)\n",
    "    right = math.floor(float(xmax)*width)\n",
    "    lower = math.floor(float(ymax)*height)\n",
    "    \n",
    "    # Crop the image to the bounding box size\n",
    "    img = img.crop(box = (left, upper, right, lower))\n",
    "    \n",
    "    # Save the image to a byte-buffer\n",
    "    buff = io.BytesIO()\n",
    "    img.save(buff, format = \"JPEG\")\n",
    "    \n",
    "    # Get the raw bytes of the jpeg data.\n",
    "    byte_array = buff.getvalue()\n",
    "    return byte_array   # return buff.getvalue() doesn't work. This a quirk of pyspark not being able to determine the output"
   ]
  },
  {
   "cell_type": "code",
   "execution_count": null,
   "metadata": {},
   "outputs": [],
   "source": [
    "# Wrap the function as a spark udf (user-defined function) with a binary return type\n",
    "udf_extract_chip = f.udf(extract_chip, returnType = BinaryType())\n",
    "\n",
    "# Create a new column with the image chip data\n",
    "df_data = df_data.withColumn(\"chip_data\", udf_extract_chip(\"Data\",\"XMin\",\"XMax\",\"YMin\",\"YMax\"))"
   ]
  },
  {
   "cell_type": "code",
   "execution_count": null,
   "metadata": {},
   "outputs": [],
   "source": [
    "spark.catalog.clearCache()\n",
    "sqlContext.clearCache()"
   ]
  },
  {
   "cell_type": "code",
   "execution_count": null,
   "metadata": {},
   "outputs": [],
   "source": [
    "df_data = df_data.drop('data')"
   ]
  },
  {
   "cell_type": "code",
   "execution_count": null,
   "metadata": {},
   "outputs": [],
   "source": [
    "df_data.count()"
   ]
  },
  {
   "cell_type": "code",
   "execution_count": null,
   "metadata": {},
   "outputs": [],
   "source": [
    "df_data.printSchema()"
   ]
  },
  {
   "cell_type": "code",
   "execution_count": null,
   "metadata": {},
   "outputs": [],
   "source": [
    "spark.catalog.clearCache()\n",
    "sqlContext.clearCache()\n"
   ]
  },
  {
   "cell_type": "code",
   "execution_count": null,
   "metadata": {},
   "outputs": [],
   "source": [
    "df_data.cache()"
   ]
  },
  {
   "cell_type": "code",
   "execution_count": null,
   "metadata": {},
   "outputs": [],
   "source": []
  },
  {
   "cell_type": "markdown",
   "metadata": {},
   "source": [
    "### Saving dataframe in hdfs"
   ]
  },
  {
   "cell_type": "code",
   "execution_count": null,
   "metadata": {},
   "outputs": [],
   "source": [
    "df_data.write.parquet(\"/user/msitut1/df_data_no_data.parquet\")"
   ]
  },
  {
   "cell_type": "code",
   "execution_count": null,
   "metadata": {},
   "outputs": [],
   "source": [
    "hdfs.ls('/user/msitut1')"
   ]
  },
  {
   "cell_type": "code",
   "execution_count": null,
   "metadata": {},
   "outputs": [],
   "source": [
    "#hdfs.delete('/user/msitut1/df_data_no_data.parquet',recursive=True)"
   ]
  },
  {
   "cell_type": "code",
   "execution_count": null,
   "metadata": {},
   "outputs": [],
   "source": [
    "spark.catalog.clearCache()\n",
    "sqlContext.clearCache()"
   ]
  },
  {
   "cell_type": "markdown",
   "metadata": {},
   "source": [
    "Now our data is ready to be used in part 3 - feature extraction"
   ]
  },
  {
   "cell_type": "code",
   "execution_count": null,
   "metadata": {},
   "outputs": [],
   "source": [
    "spark.stop()"
   ]
  }
 ],
 "metadata": {
  "kernelspec": {
   "display_name": "Python 3",
   "language": "python",
   "name": "python3"
  },
  "language_info": {
   "codemirror_mode": {
    "name": "ipython",
    "version": 3
   },
   "file_extension": ".py",
   "mimetype": "text/x-python",
   "name": "python",
   "nbconvert_exporter": "python",
   "pygments_lexer": "ipython3",
   "version": "3.6.8"
  }
 },
 "nbformat": 4,
 "nbformat_minor": 4
}
